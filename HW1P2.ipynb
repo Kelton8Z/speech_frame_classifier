{
  "cells": [
    {
      "cell_type": "markdown",
      "metadata": {
        "id": "F9ERgBpbcMmB"
      },
      "source": [
        "# HW1: Frame-Level Speech Recognition"
      ]
    },
    {
      "cell_type": "markdown",
      "metadata": {
        "id": "CLkH6GMGcWcE"
      },
      "source": [
        "In this homework, you will be working with MFCC data consisting of 15 features at each time step/frame. Your model should be able to recognize the phoneme occured in that frame."
      ]
    },
    {
      "cell_type": "markdown",
      "metadata": {
        "id": "z4vZbDmJvMp1"
      },
      "source": [
        "# Libraries"
      ]
    },
    {
      "cell_type": "code",
      "execution_count": 1,
      "metadata": {
        "id": "rwYu9sSUnSho",
        "colab": {
          "base_uri": "https://localhost:8080/"
        },
        "outputId": "42803ae3-b401-46ff-f302-265e5a99fd6b"
      },
      "outputs": [
        {
          "output_type": "stream",
          "name": "stdout",
          "text": [
            "\u001b[K     |████████████████████████████████| 1.8 MB 40.7 MB/s \n",
            "\u001b[K     |████████████████████████████████| 181 kB 77.6 MB/s \n",
            "\u001b[K     |████████████████████████████████| 162 kB 70.8 MB/s \n",
            "\u001b[K     |████████████████████████████████| 63 kB 2.0 MB/s \n",
            "\u001b[K     |████████████████████████████████| 158 kB 93.9 MB/s \n",
            "\u001b[K     |████████████████████████████████| 157 kB 95.7 MB/s \n",
            "\u001b[K     |████████████████████████████████| 157 kB 70.0 MB/s \n",
            "\u001b[K     |████████████████████████████████| 157 kB 103.2 MB/s \n",
            "\u001b[K     |████████████████████████████████| 157 kB 103.1 MB/s \n",
            "\u001b[K     |████████████████████████████████| 157 kB 97.0 MB/s \n",
            "\u001b[K     |████████████████████████████████| 157 kB 104.8 MB/s \n",
            "\u001b[K     |████████████████████████████████| 157 kB 83.5 MB/s \n",
            "\u001b[K     |████████████████████████████████| 156 kB 82.8 MB/s \n",
            "\u001b[?25h  Building wheel for pathtools (setup.py) ... \u001b[?25l\u001b[?25hdone\n"
          ]
        }
      ],
      "source": [
        "!pip install torchsummaryX wandb --quiet"
      ]
    },
    {
      "cell_type": "code",
      "execution_count": 2,
      "metadata": {
        "id": "qI4qfx7tiBZt",
        "colab": {
          "base_uri": "https://localhost:8080/"
        },
        "outputId": "21ab6609-4ae5-4398-e62b-f84b282dc5cd"
      },
      "outputs": [
        {
          "output_type": "stream",
          "name": "stdout",
          "text": [
            "Device:  cuda\n"
          ]
        }
      ],
      "source": [
        "import torch\n",
        "import numpy as np\n",
        "from torchsummaryX import summary\n",
        "import sklearn\n",
        "import sklearn.metrics\n",
        "import gc\n",
        "import zipfile\n",
        "import pandas as pd\n",
        "from tqdm.auto import tqdm\n",
        "import os\n",
        "import datetime\n",
        "import wandb\n",
        "device = 'cuda' if torch.cuda.is_available() else 'cpu'\n",
        "print(\"Device: \", device)"
      ]
    },
    {
      "cell_type": "code",
      "execution_count": 3,
      "metadata": {
        "id": "8yBgXjKV1O0Z",
        "colab": {
          "base_uri": "https://localhost:8080/"
        },
        "outputId": "8a80b43a-30ba-47cf-9e05-e5f4f981c8fa"
      },
      "outputs": [
        {
          "output_type": "stream",
          "name": "stdout",
          "text": [
            "Mounted at /content/drive\n"
          ]
        }
      ],
      "source": [
        "### If you are using colab, you can import google drive to save model checkpoints in a folder\n",
        "from google.colab import drive\n",
        "drive.mount('/content/drive')"
      ]
    },
    {
      "cell_type": "code",
      "execution_count": 4,
      "metadata": {
        "id": "N-9qE20hmCgQ"
      },
      "outputs": [],
      "source": [
        "### PHONEME LIST\n",
        "PHONEMES = [\n",
        "            'SIL',   'AA',    'AE',    'AH',    'AO',    'AW',    'AY',  \n",
        "            'B',     'CH',    'D',     'DH',    'EH',    'ER',    'EY',\n",
        "            'F',     'G',     'HH',    'IH',    'IY',    'JH',    'K',\n",
        "            'L',     'M',     'N',     'NG',    'OW',    'OY',    'P',\n",
        "            'R',     'S',     'SH',    'T',     'TH',    'UH',    'UW',\n",
        "            'V',     'W',     'Y',     'Z',     'ZH',    '<sos>', '<eos>']"
      ]
    },
    {
      "cell_type": "markdown",
      "metadata": {
        "id": "ZIi0Big7vPa9"
      },
      "source": [
        "# Kaggle"
      ]
    },
    {
      "cell_type": "markdown",
      "metadata": {
        "id": "BBCbeRhixGM7"
      },
      "source": [
        "This section contains code that helps you install kaggle's API, creating kaggle.json with you username and API key details. Make sure to input those in the given code to ensure you can download data from the competition successfully."
      ]
    },
    {
      "cell_type": "code",
      "execution_count": 5,
      "metadata": {
        "id": "TPBUd7Cnl-Rx",
        "colab": {
          "base_uri": "https://localhost:8080/"
        },
        "outputId": "3468051f-20da-42de-8e95-f38c46de7cba"
      },
      "outputs": [
        {
          "output_type": "stream",
          "name": "stdout",
          "text": [
            "Looking in indexes: https://pypi.org/simple, https://us-python.pkg.dev/colab-wheels/public/simple/\n",
            "Collecting kaggle==1.5.8\n",
            "  Downloading kaggle-1.5.8.tar.gz (59 kB)\n",
            "\u001b[K     |████████████████████████████████| 59 kB 7.0 MB/s \n",
            "\u001b[?25hBuilding wheels for collected packages: kaggle\n",
            "  Building wheel for kaggle (setup.py) ... \u001b[?25l\u001b[?25hdone\n",
            "  Created wheel for kaggle: filename=kaggle-1.5.8-py3-none-any.whl size=73275 sha256=11106b21733b6fe3c7210ccb5093622e63cd266c68ebe3daf2198bf52710e666\n",
            "  Stored in directory: /root/.cache/pip/wheels/de/f7/d8/c3902cacb7e62cb611b1ad343d7cc07f42f7eb76ae3a52f3d1\n",
            "Successfully built kaggle\n",
            "Installing collected packages: kaggle\n",
            "  Attempting uninstall: kaggle\n",
            "    Found existing installation: kaggle 1.5.12\n",
            "    Uninstalling kaggle-1.5.12:\n",
            "      Successfully uninstalled kaggle-1.5.12\n",
            "Successfully installed kaggle-1.5.8\n"
          ]
        }
      ],
      "source": [
        "!pip install --upgrade --force-reinstall --no-deps kaggle==1.5.8\n",
        "!mkdir /root/.kaggle\n",
        "\n",
        "with open(\"/root/.kaggle/kaggle.json\", \"w+\") as f:\n",
        "    f.write('{\"username\":\"keltonzhang\",\"key\":\"0f5b3ef7c93101b2a2b00d4445a4cdec\"}') \n",
        "    # Put your kaggle username & key here\n",
        "\n",
        "!chmod 600 /root/.kaggle/kaggle.json"
      ]
    },
    {
      "cell_type": "code",
      "execution_count": 6,
      "metadata": {
        "id": "if2Somqfbje1",
        "colab": {
          "base_uri": "https://localhost:8080/"
        },
        "outputId": "7e1e58eb-6139-49b0-e2cd-9201163dbd58"
      },
      "outputs": [
        {
          "output_type": "stream",
          "name": "stdout",
          "text": [
            "Downloading 11-785-f22-hw1p2.zip to /content\n",
            " 99% 2.11G/2.13G [00:08<00:00, 355MB/s]\n",
            "100% 2.13G/2.13G [00:08<00:00, 267MB/s]\n"
          ]
        }
      ],
      "source": [
        "# commands to download data from kaggle\n",
        "\n",
        "!kaggle competitions download -c 11-785-f22-hw1p2\n",
        "!mkdir '/content/data'\n",
        "\n",
        "!unzip -qo '11-785-f22-hw1p2.zip' -d '/content/data'"
      ]
    },
    {
      "cell_type": "markdown",
      "metadata": {
        "id": "Vuzce0_TdcaR"
      },
      "source": [
        "# Dataset"
      ]
    },
    {
      "cell_type": "markdown",
      "metadata": {
        "id": "2_7QgMbBdgPp"
      },
      "source": [
        "This section covers the dataset/dataloader class for speech data. You will have to spend time writing code to create this class successfully. We have given you a lot of comments guiding you on what code to write at each stage, from top to bottom of the class. Please try and take your time figuring this out, as it will immensely help in creating dataset/dataloader classes for future homeworks.\n",
        "\n",
        "Before running the following cells, please take some time to analyse the structure of data. Try loading a single MFCC and its transcipt, print out the shapes and print out the values. Do the transcripts look like phonemes?"
      ]
    },
    {
      "cell_type": "code",
      "execution_count": 7,
      "metadata": {
        "id": "YpLCvi3AJC5z"
      },
      "outputs": [],
      "source": [
        "# Dataset class to load train and validation data\n",
        "\n",
        "import enum\n",
        "\n",
        "\n",
        "class AudioDataset(torch.utils.data.Dataset):\n",
        "\n",
        "    def __init__(self, data_path, context, offset=0, partition= \"train\", limit=-1): # Feel free to add more arguments\n",
        "\n",
        "        self.context = context\n",
        "        self.offset = offset\n",
        "        self.data_path = data_path\n",
        "\n",
        "        self.mfcc_dir = data_path + \"/mfcc/\" #\"train-clean-100/mfcc\" if partition == \"train\" else \"dev-clean/mfcc\" # TODO: MFCC directory - use partition to acces train/dev directories from kaggle data\n",
        "        self.transcript_dir = data_path + \"/transcript/\" #\"train-clean/transcript\" if partition == \"train\" else \"dev-clean/transcript\" # TODO: Transcripts directory - use partition to acces train/dev directories from kaggle data\n",
        "\n",
        "        mfcc_names = [self.mfcc_dir+f for f in sorted(os.listdir(self.mfcc_dir))] # TODO: List files in sefl.mfcc_dir_dir using os.listdir in sorted order, optionally subset using limit to slice the number of files you load\n",
        "        transcript_names = [self.transcript_dir+f for f in sorted(os.listdir(self.transcript_dir))] # TODO: List files in self.transcript_dir using os.listdir in sorted order, optionally subset using limit to slice the number of files you load\n",
        "\n",
        "        assert len(mfcc_names) == len(transcript_names) # Making sure that we have the same no. of mfcc and transcripts\n",
        "\n",
        "        self.mfccs, self.transcripts = [], []\n",
        "\n",
        "        # TODO:\n",
        "        # Iterate through mfccs and transcripts\n",
        "        for i in range(0, len(mfcc_names)):\n",
        "        #   Load a single mfcc\n",
        "            mfcc = np.load(mfcc_names[i])\n",
        "        #   Optionally do Cepstral Normalization of mfcc\n",
        "        #   Load the corresponding transcript\n",
        "            transcript = np.load(transcript_names[i])[1:-1] # Remove [SOS] and [EOS] from the transcript (Is there an efficient way to do this \n",
        "            # without traversing through the transcript?)\n",
        "        #   Append each mfcc to self.mfcc, transcript to self.transcript\n",
        "            self.mfccs.append(mfcc)\n",
        "            self.transcripts.append(transcript)\n",
        "\n",
        "        \n",
        "\n",
        "        # NOTE:\n",
        "        # Each mfcc is of shape T1 x 15, T2 x 15, ...\n",
        "        # Each transcript is of shape (T1+2) x 15, (T2+2) x 15 before removing [SOS] and [EOS]\n",
        "\n",
        "        # TODO: Concatenate all mfccs in self.mfccs such that the final shape is T x 15 (Where T = T1 + T2 + ...) \n",
        "        self.mfccs = np.concatenate(self.mfccs)\n",
        "        self.mfcc = (self.mfccs - np.mean(self.mfccs, axis=0))/np.std(self.mfccs, axis=0)\n",
        "        print(self.mfccs.shape)\n",
        "        # TODO: Concatenate all transcripts in self.transcripts such that the final shape is (T,) meaning, each time step has one phoneme output\n",
        "        self.transcripts = np.concatenate(self.transcripts, axis=None)\n",
        "        # Hint: Use numpy to concatenate\n",
        "\n",
        "        # Take some time to think about what we have done. self.mfcc is an array of the format (Frames x Features). Our goal is to recognize phonemes of each frame\n",
        "        # From hw0, you will be knowing what context is. We can introduce context by padding zeros on top and bottom of self.mfcc\n",
        "        padding_width = [(context, context), (0,0)]\n",
        "        # for i in range(len(self.mfccs)):\n",
        "        #     print(self.mfccs[i].shape)\n",
        "        self.mfccs = np.pad(self.mfccs, padding_width, mode='constant', constant_values=0) # TODO\n",
        "        print(self.mfccs.shape)\n",
        "        # These are the available phonemes in the transcript\n",
        "        self.phonemes = [\n",
        "            'SIL',   'AA',    'AE',    'AH',    'AO',    'AW',    'AY',  \n",
        "            'B',     'CH',    'D',     'DH',    'EH',    'ER',    'EY',\n",
        "            'F',     'G',     'HH',    'IH',    'IY',    'JH',    'K',\n",
        "            'L',     'M',     'N',     'NG',    'OW',    'OY',    'P',\n",
        "            'R',     'S',     'SH',    'T',     'TH',    'UH',    'UW',\n",
        "            'V',     'W',     'Y',     'Z',     'ZH',    '<sos>', '<eos>']\n",
        "        # But the neural network cannot predict strings as such. Instead we map these phonemes to integers\n",
        "        d = {phone:idx for idx, phone in enumerate(self.phonemes[:-2])}\n",
        "        self.transcripts = [d[phone] for phone in self.transcripts] # TODO: Map the phonemes to their corresponding list indexes in self.phonemes\n",
        "        # Now, if an element in self.transcript is 0, it means that it is 'SIL' (as per the above example)\n",
        "\n",
        "        # Length of the dataset is now the length of concatenated mfccs/transcripts\n",
        "        self.length = len(self.transcripts) #len(self.mfccs) # without the padding\n",
        "\n",
        "    def __len__(self):\n",
        "        return self.length\n",
        "\n",
        "    def __getitem__(self, ind):\n",
        "        ### Calculate starting timestep using offset and context (1 line)\n",
        "        start_ind = ind + self.offset\n",
        "        \n",
        "        ### Calculate ending timestep using offset and context (1 line)\n",
        "        end_ind = ind + self.offset + 2*self.context + 1\n",
        "        \n",
        "        frames = self.mfccs[start_ind:end_ind] # TODO: Based on context and offset, return a frame at given index with context frames to the left, and right.\n",
        "        # After slicing, you get an array of shape 2*context+1 x 15. But our MLP needs 1d data and not 2d.\n",
        "        frames = frames.flatten() # TODO: Flatten to get 1d data\n",
        "\n",
        "        frames = torch.FloatTensor(frames) # Convert to tensors\n",
        "        phoneme = torch.tensor(self.transcripts[ind])       \n",
        "\n",
        "        return frames, phoneme"
      ]
    },
    {
      "cell_type": "code",
      "execution_count": 8,
      "metadata": {
        "id": "e8KfVP39S6o7"
      },
      "outputs": [],
      "source": [
        "class AudioTestDataset(torch.utils.data.Dataset):\n",
        "\n",
        "    # TODO: Create a test dataset class similar to the previous class but you dont have transcripts for this\n",
        "    # Imp: Read the mfccs in sorted order, do NOT shuffle the data here or in your dataloader.\n",
        "    # Dataset class to load train and validation data\n",
        "    def __init__(self, data_path, context, offset=0, limit=-1): # Feel free to add more arguments\n",
        "\n",
        "        self.context = context\n",
        "        self.offset = offset\n",
        "        self.data_path = data_path\n",
        "\n",
        "        self.mfcc_dir = data_path + \"/mfcc/\" #\"train-clean-100/mfcc\" if partition == \"train\" else \"dev-clean/mfcc\" # TODO: MFCC directory - use partition to acces train/dev directories from kaggle data\n",
        "\n",
        "        mfcc_names = [self.mfcc_dir+f for f in sorted(os.listdir(self.mfcc_dir))] # TODO: List files in sefl.mfcc_dir_dir using os.listdir in sorted order, optionally subset using limit to slice the number of files you load\n",
        "\n",
        "        self.mfccs = []\n",
        "\n",
        "        # TODO:\n",
        "        # Iterate through mfccs\n",
        "        for i in range(0, len(mfcc_names)):\n",
        "        #   Load a single mfcc\n",
        "            mfcc = np.load(mfcc_names[i])\n",
        "        #   Optionally do Cepstral Normalization of mfcc\n",
        "\n",
        "        #   Append each mfcc to self.mfcc\n",
        "            self.mfccs.append(mfcc)\n",
        "        \n",
        "\n",
        "        # NOTE:\n",
        "        # Each mfcc is of shape T1 x 15, T2 x 15, ...\n",
        "        # Each transcript is of shape (T1+2) x 15, (T2+2) x 15 before removing [SOS] and [EOS]\n",
        "\n",
        "        # TODO: Concatenate all mfccs in self.mfccs such that the final shape is T x 15 (Where T = T1 + T2 + ...) \n",
        "        self.mfccs = np.concatenate(self.mfccs)\n",
        "        self.mfccs = (self.mfccs - np.mean(self.mfccs, axis=0))/np.std(self.mfccs, axis=0)\n",
        "        print(self.mfccs.shape)\n",
        "        # Take some time to think about what we have done. self.mfcc is an array of the format (Frames x Features). Our goal is to recognize phonemes of each frame\n",
        "        # From hw0, you will be knowing what context is. We can introduce context by padding zeros on top and bottom of self.mfcc\n",
        "        padding_width = [(context, context), (0,0)]\n",
        "        # Length of the dataset is now the length of concatenated mfccs/transcripts\n",
        "        self.length = len(self.mfccs) # without the padding\n",
        "        self.mfccs = np.pad(self.mfccs, padding_width, mode='constant', constant_values=0)\n",
        "\n",
        "\n",
        "    def __len__(self):\n",
        "        return self.length\n",
        "\n",
        "    def __getitem__(self, ind):\n",
        "        ### Calculate starting timestep using offset and context (1 line)\n",
        "        start_ind = ind + self.offset\n",
        "        \n",
        "        ### Calculate ending timestep using offset and context (1 line)\n",
        "        end_ind = ind + self.offset + 2*self.context + 1\n",
        "        \n",
        "        frames = self.mfccs[start_ind:end_ind] # TODO: Based on context and offset, return a frame at given index with context frames to the left, and right.\n",
        "        # After slicing, you get an array of shape 2*context+1 x 15. But our MLP needs 1d data and not 2d.\n",
        "        frames = frames.flatten() # TODO: Flatten to get 1d data\n",
        "\n",
        "        frames = torch.FloatTensor(frames) # Convert to tensors\n",
        "\n",
        "        return frames"
      ]
    },
    {
      "cell_type": "markdown",
      "metadata": {
        "id": "qNacQ8bpt9nw"
      },
      "source": [
        "# Parameters Configuration"
      ]
    },
    {
      "cell_type": "markdown",
      "metadata": {
        "id": "WE7tsinAuLNy"
      },
      "source": [
        "Storing your parameters and hyperparameters in a single configuration dictionary makes it easier to keep track of them during each experiment. It can also be used with weights and biases to log your parameters for each experiment and keep track of them across multiple experiments. "
      ]
    },
    {
      "cell_type": "code",
      "execution_count": 9,
      "metadata": {
        "id": "PmKwlFqgt_Zq"
      },
      "outputs": [],
      "source": [
        "config = {\n",
        "    'epochs': 12,\n",
        "    'batch_size' : 16384,\n",
        "    'context' : 50,\n",
        "    'learning_rate' : 0.001,\n",
        "    'dropout_p' : 0.75,\n",
        "    'architecture' : 'medium-cutoff'\n",
        "    # Add more as you need them - e.g dropout values, weight decay, scheduler parameters\n",
        "}"
      ]
    },
    {
      "cell_type": "markdown",
      "metadata": {
        "id": "2mlwaKlDt_2c"
      },
      "source": [
        "# Create Datasets"
      ]
    },
    {
      "cell_type": "code",
      "execution_count": 10,
      "metadata": {
        "id": "7xi7V8x8W9z4",
        "colab": {
          "base_uri": "https://localhost:8080/"
        },
        "outputId": "e0f145a9-8d49-4e40-8ceb-37de31ac88f3"
      },
      "outputs": [
        {
          "output_type": "stream",
          "name": "stdout",
          "text": [
            "(36191134, 15)\n",
            "(36191234, 15)\n",
            "(1937496, 15)\n",
            "(1937596, 15)\n",
            "(1943253, 15)\n"
          ]
        }
      ],
      "source": [
        "context = config['context']\n",
        "dir = 'data/'\n",
        "train_data = AudioDataset(dir+\"train-clean-100\", context) #TODO: Create a dataset object using the AudioDataset class for the training data \n",
        "\n",
        "val_data = AudioDataset(dir+\"dev-clean\", context) # TODO: Create a dataset object using the AudioDataset class for the validation data \n",
        "\n",
        "test_data = AudioTestDataset(dir+\"test-clean\", context) # TODO: Create a dataset object using the AudioTestDataset class for the test data "
      ]
    },
    {
      "cell_type": "code",
      "execution_count": 11,
      "metadata": {
        "id": "4mzoYfTKu14s",
        "colab": {
          "base_uri": "https://localhost:8080/"
        },
        "outputId": "826291eb-2f95-4332-8887-1460756d718c"
      },
      "outputs": [
        {
          "output_type": "stream",
          "name": "stdout",
          "text": [
            "Batch size:  16384\n",
            "Context:  50\n",
            "Input size:  1515\n",
            "Output symbols:  42\n",
            "Train dataset samples = 36191134, batches = 2209\n",
            "Validation dataset samples = 1937496, batches = 119\n",
            "Test dataset samples = 1943253, batches = 119\n"
          ]
        }
      ],
      "source": [
        "# Define dataloaders for train, val and test datasets\n",
        "# Dataloaders will yield a batch of frames and phonemes of given batch_size at every iteration\n",
        "train_loader = torch.utils.data.DataLoader(train_data, num_workers= 4,\n",
        "                                           batch_size=config['batch_size'], pin_memory= True,\n",
        "                                           shuffle= True)\n",
        "\n",
        "val_loader = torch.utils.data.DataLoader(val_data, num_workers= 2,\n",
        "                                         batch_size=config['batch_size'], pin_memory= True,\n",
        "                                         shuffle= False)\n",
        "\n",
        "test_loader = torch.utils.data.DataLoader(test_data, num_workers= 2, \n",
        "                                          batch_size=config['batch_size'], pin_memory= True, \n",
        "                                          shuffle= False)\n",
        "\n",
        "\n",
        "print(\"Batch size: \", config['batch_size'])\n",
        "print(\"Context: \", config['context'])\n",
        "print(\"Input size: \", (2*config['context']+1)*15)\n",
        "print(\"Output symbols: \", len(PHONEMES))\n",
        "\n",
        "print(\"Train dataset samples = {}, batches = {}\".format(train_data.__len__(), len(train_loader)))\n",
        "print(\"Validation dataset samples = {}, batches = {}\".format(val_data.__len__(), len(val_loader)))\n",
        "print(\"Test dataset samples = {}, batches = {}\".format(test_data.__len__(), len(test_loader)))"
      ]
    },
    {
      "cell_type": "code",
      "execution_count": 12,
      "metadata": {
        "id": "n-GV3UvgLSoF",
        "colab": {
          "base_uri": "https://localhost:8080/"
        },
        "outputId": "dd17507d-6984-4d26-8f19-ea3a23619965"
      },
      "outputs": [
        {
          "output_type": "stream",
          "name": "stdout",
          "text": [
            "torch.Size([16384, 1515]) torch.Size([16384])\n"
          ]
        }
      ],
      "source": [
        "# Testing code to check if your data loaders are working\n",
        "for i, data in enumerate(train_loader):\n",
        "    frames, phoneme = data\n",
        "    print(frames.shape, phoneme.shape)\n",
        "    break"
      ]
    },
    {
      "cell_type": "markdown",
      "metadata": {
        "id": "Nxjwve20JRJ2"
      },
      "source": [
        "# Network Architecture\n"
      ]
    },
    {
      "cell_type": "markdown",
      "metadata": {
        "id": "3NJzT-mRw6iy"
      },
      "source": [
        "This section defines your network architecture for the homework. We have given you a sample architecture that can easily clear the very low cutoff for the early submission deadline."
      ]
    },
    {
      "cell_type": "code",
      "execution_count": 13,
      "metadata": {
        "id": "OvcpontXQq9j"
      },
      "outputs": [],
      "source": [
        "# This architecture will make you cross the very low cutoff\n",
        "# However, you need to run a lot of experiments to cross the medium or high cutoff\n",
        "class Network(torch.nn.Module):\n",
        "\n",
        "    def __init__(self, context):\n",
        "\n",
        "        super(Network, self).__init__()\n",
        "\n",
        "        input_size = (2*context + 1) * 15 #Why is this the case?\n",
        "        output_size = 40 #Why? # of phonemes\n",
        "        layers = []\n",
        "        sizeList = [input_size, 1024, 1024,\n",
        "                    2048, 2048, 2048, 2048, 1024, 1024, output_size]\n",
        "        self.sizeList = sizeList\n",
        "        for i in range(len(sizeList) - 2):\n",
        "            # if i < 7: # batchnorm\n",
        "            layers.append(torch.nn.Linear(sizeList[i], sizeList[i+1]))\n",
        "            layers.append(torch.nn.BatchNorm1d(sizeList[i+1]))\n",
        "            layers.append(torch.nn.ReLU())\n",
        "            layers.append(torch.nn.Dropout(0.25))\n",
        "            # else: # regular layer\n",
        "            #     layers.append(torch.nn.Linear(sizeList[i], sizeList[i+1]))\n",
        "            #     layers.append(torch.nn.LeakyReLU())\n",
        "        # Last layer\n",
        "        layers.append(torch.nn.Linear(sizeList[-2], sizeList[-1]))\n",
        "        self.model = torch.nn.Sequential(*layers)\n",
        "  \n",
        "        self.dropout = torch.nn.Dropout(0.25)\n",
        "\n",
        "    def forward(self, x):\n",
        "        out = self.model(x)\n",
        "        return out"
      ]
    },
    {
      "cell_type": "markdown",
      "metadata": {
        "id": "HejoSXe3vMVU"
      },
      "source": [
        "# Define Model, Loss Function and Optimizer"
      ]
    },
    {
      "cell_type": "markdown",
      "metadata": {
        "id": "xAhGBH7-xxth"
      },
      "source": [
        "Here we define the model, loss function, optimizer and optionally a learning rate scheduler. "
      ]
    },
    {
      "cell_type": "code",
      "execution_count": 14,
      "metadata": {
        "id": "_qtrEM1ZvLje",
        "colab": {
          "base_uri": "https://localhost:8080/",
          "height": 1000
        },
        "outputId": "c540d01f-4e2e-4877-8192-0cbf3c39df0d"
      },
      "outputs": [
        {
          "output_type": "stream",
          "name": "stdout",
          "text": [
            "torch.Size([16384, 1515])\n",
            "==========================================================================\n",
            "                         Kernel Shape   Output Shape     Params  Mult-Adds\n",
            "Layer                                                                     \n",
            "0_model.Linear_0         [1515, 1024]  [16384, 1024]  1.552384M   1.55136M\n",
            "1_model.BatchNorm1d_1          [1024]  [16384, 1024]     2.048k     1.024k\n",
            "2_model.ReLU_2                      -  [16384, 1024]          -          -\n",
            "3_model.Dropout_3                   -  [16384, 1024]          -          -\n",
            "4_model.Linear_4         [1024, 1024]  [16384, 1024]    1.0496M  1.048576M\n",
            "5_model.BatchNorm1d_5          [1024]  [16384, 1024]     2.048k     1.024k\n",
            "6_model.ReLU_6                      -  [16384, 1024]          -          -\n",
            "7_model.Dropout_7                   -  [16384, 1024]          -          -\n",
            "8_model.Linear_8         [1024, 2048]  [16384, 2048]    2.0992M  2.097152M\n",
            "9_model.BatchNorm1d_9          [2048]  [16384, 2048]     4.096k     2.048k\n",
            "10_model.ReLU_10                    -  [16384, 2048]          -          -\n",
            "11_model.Dropout_11                 -  [16384, 2048]          -          -\n",
            "12_model.Linear_12       [2048, 2048]  [16384, 2048]  4.196352M  4.194304M\n",
            "13_model.BatchNorm1d_13        [2048]  [16384, 2048]     4.096k     2.048k\n",
            "14_model.ReLU_14                    -  [16384, 2048]          -          -\n",
            "15_model.Dropout_15                 -  [16384, 2048]          -          -\n",
            "16_model.Linear_16       [2048, 2048]  [16384, 2048]  4.196352M  4.194304M\n",
            "17_model.BatchNorm1d_17        [2048]  [16384, 2048]     4.096k     2.048k\n",
            "18_model.ReLU_18                    -  [16384, 2048]          -          -\n",
            "19_model.Dropout_19                 -  [16384, 2048]          -          -\n",
            "20_model.Linear_20       [2048, 2048]  [16384, 2048]  4.196352M  4.194304M\n",
            "21_model.BatchNorm1d_21        [2048]  [16384, 2048]     4.096k     2.048k\n",
            "22_model.ReLU_22                    -  [16384, 2048]          -          -\n",
            "23_model.Dropout_23                 -  [16384, 2048]          -          -\n",
            "24_model.Linear_24       [2048, 1024]  [16384, 1024]  2.098176M  2.097152M\n",
            "25_model.BatchNorm1d_25        [1024]  [16384, 1024]     2.048k     1.024k\n",
            "26_model.ReLU_26                    -  [16384, 1024]          -          -\n",
            "27_model.Dropout_27                 -  [16384, 1024]          -          -\n",
            "28_model.Linear_28       [1024, 1024]  [16384, 1024]    1.0496M  1.048576M\n",
            "29_model.BatchNorm1d_29        [1024]  [16384, 1024]     2.048k     1.024k\n",
            "30_model.ReLU_30                    -  [16384, 1024]          -          -\n",
            "31_model.Dropout_31                 -  [16384, 1024]          -          -\n",
            "32_model.Linear_32         [1024, 40]    [16384, 40]      41.0k     40.96k\n",
            "--------------------------------------------------------------------------\n",
            "                          Totals\n",
            "Total params          20.503592M\n",
            "Trainable params      20.503592M\n",
            "Non-trainable params         0.0\n",
            "Mult-Adds             20.478976M\n",
            "==========================================================================\n"
          ]
        },
        {
          "output_type": "stream",
          "name": "stderr",
          "text": [
            "/usr/local/lib/python3.7/dist-packages/torchsummaryX/torchsummaryX.py:101: FutureWarning: Dropping of nuisance columns in DataFrame reductions (with 'numeric_only=None') is deprecated; in a future version this will raise TypeError.  Select only valid columns before calling the reduction.\n",
            "  df_sum = df.sum()\n"
          ]
        },
        {
          "output_type": "execute_result",
          "data": {
            "text/plain": [
              "                         Kernel Shape   Output Shape     Params  Mult-Adds\n",
              "Layer                                                                     \n",
              "0_model.Linear_0         [1515, 1024]  [16384, 1024]  1552384.0  1551360.0\n",
              "1_model.BatchNorm1d_1          [1024]  [16384, 1024]     2048.0     1024.0\n",
              "2_model.ReLU_2                      -  [16384, 1024]        NaN        NaN\n",
              "3_model.Dropout_3                   -  [16384, 1024]        NaN        NaN\n",
              "4_model.Linear_4         [1024, 1024]  [16384, 1024]  1049600.0  1048576.0\n",
              "5_model.BatchNorm1d_5          [1024]  [16384, 1024]     2048.0     1024.0\n",
              "6_model.ReLU_6                      -  [16384, 1024]        NaN        NaN\n",
              "7_model.Dropout_7                   -  [16384, 1024]        NaN        NaN\n",
              "8_model.Linear_8         [1024, 2048]  [16384, 2048]  2099200.0  2097152.0\n",
              "9_model.BatchNorm1d_9          [2048]  [16384, 2048]     4096.0     2048.0\n",
              "10_model.ReLU_10                    -  [16384, 2048]        NaN        NaN\n",
              "11_model.Dropout_11                 -  [16384, 2048]        NaN        NaN\n",
              "12_model.Linear_12       [2048, 2048]  [16384, 2048]  4196352.0  4194304.0\n",
              "13_model.BatchNorm1d_13        [2048]  [16384, 2048]     4096.0     2048.0\n",
              "14_model.ReLU_14                    -  [16384, 2048]        NaN        NaN\n",
              "15_model.Dropout_15                 -  [16384, 2048]        NaN        NaN\n",
              "16_model.Linear_16       [2048, 2048]  [16384, 2048]  4196352.0  4194304.0\n",
              "17_model.BatchNorm1d_17        [2048]  [16384, 2048]     4096.0     2048.0\n",
              "18_model.ReLU_18                    -  [16384, 2048]        NaN        NaN\n",
              "19_model.Dropout_19                 -  [16384, 2048]        NaN        NaN\n",
              "20_model.Linear_20       [2048, 2048]  [16384, 2048]  4196352.0  4194304.0\n",
              "21_model.BatchNorm1d_21        [2048]  [16384, 2048]     4096.0     2048.0\n",
              "22_model.ReLU_22                    -  [16384, 2048]        NaN        NaN\n",
              "23_model.Dropout_23                 -  [16384, 2048]        NaN        NaN\n",
              "24_model.Linear_24       [2048, 1024]  [16384, 1024]  2098176.0  2097152.0\n",
              "25_model.BatchNorm1d_25        [1024]  [16384, 1024]     2048.0     1024.0\n",
              "26_model.ReLU_26                    -  [16384, 1024]        NaN        NaN\n",
              "27_model.Dropout_27                 -  [16384, 1024]        NaN        NaN\n",
              "28_model.Linear_28       [1024, 1024]  [16384, 1024]  1049600.0  1048576.0\n",
              "29_model.BatchNorm1d_29        [1024]  [16384, 1024]     2048.0     1024.0\n",
              "30_model.ReLU_30                    -  [16384, 1024]        NaN        NaN\n",
              "31_model.Dropout_31                 -  [16384, 1024]        NaN        NaN\n",
              "32_model.Linear_32         [1024, 40]    [16384, 40]    41000.0    40960.0"
            ],
            "text/html": [
              "\n",
              "  <div id=\"df-ee0c5cdc-1188-4b8d-ab43-bc179dcd30af\">\n",
              "    <div class=\"colab-df-container\">\n",
              "      <div>\n",
              "<style scoped>\n",
              "    .dataframe tbody tr th:only-of-type {\n",
              "        vertical-align: middle;\n",
              "    }\n",
              "\n",
              "    .dataframe tbody tr th {\n",
              "        vertical-align: top;\n",
              "    }\n",
              "\n",
              "    .dataframe thead th {\n",
              "        text-align: right;\n",
              "    }\n",
              "</style>\n",
              "<table border=\"1\" class=\"dataframe\">\n",
              "  <thead>\n",
              "    <tr style=\"text-align: right;\">\n",
              "      <th></th>\n",
              "      <th>Kernel Shape</th>\n",
              "      <th>Output Shape</th>\n",
              "      <th>Params</th>\n",
              "      <th>Mult-Adds</th>\n",
              "    </tr>\n",
              "    <tr>\n",
              "      <th>Layer</th>\n",
              "      <th></th>\n",
              "      <th></th>\n",
              "      <th></th>\n",
              "      <th></th>\n",
              "    </tr>\n",
              "  </thead>\n",
              "  <tbody>\n",
              "    <tr>\n",
              "      <th>0_model.Linear_0</th>\n",
              "      <td>[1515, 1024]</td>\n",
              "      <td>[16384, 1024]</td>\n",
              "      <td>1552384.0</td>\n",
              "      <td>1551360.0</td>\n",
              "    </tr>\n",
              "    <tr>\n",
              "      <th>1_model.BatchNorm1d_1</th>\n",
              "      <td>[1024]</td>\n",
              "      <td>[16384, 1024]</td>\n",
              "      <td>2048.0</td>\n",
              "      <td>1024.0</td>\n",
              "    </tr>\n",
              "    <tr>\n",
              "      <th>2_model.ReLU_2</th>\n",
              "      <td>-</td>\n",
              "      <td>[16384, 1024]</td>\n",
              "      <td>NaN</td>\n",
              "      <td>NaN</td>\n",
              "    </tr>\n",
              "    <tr>\n",
              "      <th>3_model.Dropout_3</th>\n",
              "      <td>-</td>\n",
              "      <td>[16384, 1024]</td>\n",
              "      <td>NaN</td>\n",
              "      <td>NaN</td>\n",
              "    </tr>\n",
              "    <tr>\n",
              "      <th>4_model.Linear_4</th>\n",
              "      <td>[1024, 1024]</td>\n",
              "      <td>[16384, 1024]</td>\n",
              "      <td>1049600.0</td>\n",
              "      <td>1048576.0</td>\n",
              "    </tr>\n",
              "    <tr>\n",
              "      <th>5_model.BatchNorm1d_5</th>\n",
              "      <td>[1024]</td>\n",
              "      <td>[16384, 1024]</td>\n",
              "      <td>2048.0</td>\n",
              "      <td>1024.0</td>\n",
              "    </tr>\n",
              "    <tr>\n",
              "      <th>6_model.ReLU_6</th>\n",
              "      <td>-</td>\n",
              "      <td>[16384, 1024]</td>\n",
              "      <td>NaN</td>\n",
              "      <td>NaN</td>\n",
              "    </tr>\n",
              "    <tr>\n",
              "      <th>7_model.Dropout_7</th>\n",
              "      <td>-</td>\n",
              "      <td>[16384, 1024]</td>\n",
              "      <td>NaN</td>\n",
              "      <td>NaN</td>\n",
              "    </tr>\n",
              "    <tr>\n",
              "      <th>8_model.Linear_8</th>\n",
              "      <td>[1024, 2048]</td>\n",
              "      <td>[16384, 2048]</td>\n",
              "      <td>2099200.0</td>\n",
              "      <td>2097152.0</td>\n",
              "    </tr>\n",
              "    <tr>\n",
              "      <th>9_model.BatchNorm1d_9</th>\n",
              "      <td>[2048]</td>\n",
              "      <td>[16384, 2048]</td>\n",
              "      <td>4096.0</td>\n",
              "      <td>2048.0</td>\n",
              "    </tr>\n",
              "    <tr>\n",
              "      <th>10_model.ReLU_10</th>\n",
              "      <td>-</td>\n",
              "      <td>[16384, 2048]</td>\n",
              "      <td>NaN</td>\n",
              "      <td>NaN</td>\n",
              "    </tr>\n",
              "    <tr>\n",
              "      <th>11_model.Dropout_11</th>\n",
              "      <td>-</td>\n",
              "      <td>[16384, 2048]</td>\n",
              "      <td>NaN</td>\n",
              "      <td>NaN</td>\n",
              "    </tr>\n",
              "    <tr>\n",
              "      <th>12_model.Linear_12</th>\n",
              "      <td>[2048, 2048]</td>\n",
              "      <td>[16384, 2048]</td>\n",
              "      <td>4196352.0</td>\n",
              "      <td>4194304.0</td>\n",
              "    </tr>\n",
              "    <tr>\n",
              "      <th>13_model.BatchNorm1d_13</th>\n",
              "      <td>[2048]</td>\n",
              "      <td>[16384, 2048]</td>\n",
              "      <td>4096.0</td>\n",
              "      <td>2048.0</td>\n",
              "    </tr>\n",
              "    <tr>\n",
              "      <th>14_model.ReLU_14</th>\n",
              "      <td>-</td>\n",
              "      <td>[16384, 2048]</td>\n",
              "      <td>NaN</td>\n",
              "      <td>NaN</td>\n",
              "    </tr>\n",
              "    <tr>\n",
              "      <th>15_model.Dropout_15</th>\n",
              "      <td>-</td>\n",
              "      <td>[16384, 2048]</td>\n",
              "      <td>NaN</td>\n",
              "      <td>NaN</td>\n",
              "    </tr>\n",
              "    <tr>\n",
              "      <th>16_model.Linear_16</th>\n",
              "      <td>[2048, 2048]</td>\n",
              "      <td>[16384, 2048]</td>\n",
              "      <td>4196352.0</td>\n",
              "      <td>4194304.0</td>\n",
              "    </tr>\n",
              "    <tr>\n",
              "      <th>17_model.BatchNorm1d_17</th>\n",
              "      <td>[2048]</td>\n",
              "      <td>[16384, 2048]</td>\n",
              "      <td>4096.0</td>\n",
              "      <td>2048.0</td>\n",
              "    </tr>\n",
              "    <tr>\n",
              "      <th>18_model.ReLU_18</th>\n",
              "      <td>-</td>\n",
              "      <td>[16384, 2048]</td>\n",
              "      <td>NaN</td>\n",
              "      <td>NaN</td>\n",
              "    </tr>\n",
              "    <tr>\n",
              "      <th>19_model.Dropout_19</th>\n",
              "      <td>-</td>\n",
              "      <td>[16384, 2048]</td>\n",
              "      <td>NaN</td>\n",
              "      <td>NaN</td>\n",
              "    </tr>\n",
              "    <tr>\n",
              "      <th>20_model.Linear_20</th>\n",
              "      <td>[2048, 2048]</td>\n",
              "      <td>[16384, 2048]</td>\n",
              "      <td>4196352.0</td>\n",
              "      <td>4194304.0</td>\n",
              "    </tr>\n",
              "    <tr>\n",
              "      <th>21_model.BatchNorm1d_21</th>\n",
              "      <td>[2048]</td>\n",
              "      <td>[16384, 2048]</td>\n",
              "      <td>4096.0</td>\n",
              "      <td>2048.0</td>\n",
              "    </tr>\n",
              "    <tr>\n",
              "      <th>22_model.ReLU_22</th>\n",
              "      <td>-</td>\n",
              "      <td>[16384, 2048]</td>\n",
              "      <td>NaN</td>\n",
              "      <td>NaN</td>\n",
              "    </tr>\n",
              "    <tr>\n",
              "      <th>23_model.Dropout_23</th>\n",
              "      <td>-</td>\n",
              "      <td>[16384, 2048]</td>\n",
              "      <td>NaN</td>\n",
              "      <td>NaN</td>\n",
              "    </tr>\n",
              "    <tr>\n",
              "      <th>24_model.Linear_24</th>\n",
              "      <td>[2048, 1024]</td>\n",
              "      <td>[16384, 1024]</td>\n",
              "      <td>2098176.0</td>\n",
              "      <td>2097152.0</td>\n",
              "    </tr>\n",
              "    <tr>\n",
              "      <th>25_model.BatchNorm1d_25</th>\n",
              "      <td>[1024]</td>\n",
              "      <td>[16384, 1024]</td>\n",
              "      <td>2048.0</td>\n",
              "      <td>1024.0</td>\n",
              "    </tr>\n",
              "    <tr>\n",
              "      <th>26_model.ReLU_26</th>\n",
              "      <td>-</td>\n",
              "      <td>[16384, 1024]</td>\n",
              "      <td>NaN</td>\n",
              "      <td>NaN</td>\n",
              "    </tr>\n",
              "    <tr>\n",
              "      <th>27_model.Dropout_27</th>\n",
              "      <td>-</td>\n",
              "      <td>[16384, 1024]</td>\n",
              "      <td>NaN</td>\n",
              "      <td>NaN</td>\n",
              "    </tr>\n",
              "    <tr>\n",
              "      <th>28_model.Linear_28</th>\n",
              "      <td>[1024, 1024]</td>\n",
              "      <td>[16384, 1024]</td>\n",
              "      <td>1049600.0</td>\n",
              "      <td>1048576.0</td>\n",
              "    </tr>\n",
              "    <tr>\n",
              "      <th>29_model.BatchNorm1d_29</th>\n",
              "      <td>[1024]</td>\n",
              "      <td>[16384, 1024]</td>\n",
              "      <td>2048.0</td>\n",
              "      <td>1024.0</td>\n",
              "    </tr>\n",
              "    <tr>\n",
              "      <th>30_model.ReLU_30</th>\n",
              "      <td>-</td>\n",
              "      <td>[16384, 1024]</td>\n",
              "      <td>NaN</td>\n",
              "      <td>NaN</td>\n",
              "    </tr>\n",
              "    <tr>\n",
              "      <th>31_model.Dropout_31</th>\n",
              "      <td>-</td>\n",
              "      <td>[16384, 1024]</td>\n",
              "      <td>NaN</td>\n",
              "      <td>NaN</td>\n",
              "    </tr>\n",
              "    <tr>\n",
              "      <th>32_model.Linear_32</th>\n",
              "      <td>[1024, 40]</td>\n",
              "      <td>[16384, 40]</td>\n",
              "      <td>41000.0</td>\n",
              "      <td>40960.0</td>\n",
              "    </tr>\n",
              "  </tbody>\n",
              "</table>\n",
              "</div>\n",
              "      <button class=\"colab-df-convert\" onclick=\"convertToInteractive('df-ee0c5cdc-1188-4b8d-ab43-bc179dcd30af')\"\n",
              "              title=\"Convert this dataframe to an interactive table.\"\n",
              "              style=\"display:none;\">\n",
              "        \n",
              "  <svg xmlns=\"http://www.w3.org/2000/svg\" height=\"24px\"viewBox=\"0 0 24 24\"\n",
              "       width=\"24px\">\n",
              "    <path d=\"M0 0h24v24H0V0z\" fill=\"none\"/>\n",
              "    <path d=\"M18.56 5.44l.94 2.06.94-2.06 2.06-.94-2.06-.94-.94-2.06-.94 2.06-2.06.94zm-11 1L8.5 8.5l.94-2.06 2.06-.94-2.06-.94L8.5 2.5l-.94 2.06-2.06.94zm10 10l.94 2.06.94-2.06 2.06-.94-2.06-.94-.94-2.06-.94 2.06-2.06.94z\"/><path d=\"M17.41 7.96l-1.37-1.37c-.4-.4-.92-.59-1.43-.59-.52 0-1.04.2-1.43.59L10.3 9.45l-7.72 7.72c-.78.78-.78 2.05 0 2.83L4 21.41c.39.39.9.59 1.41.59.51 0 1.02-.2 1.41-.59l7.78-7.78 2.81-2.81c.8-.78.8-2.07 0-2.86zM5.41 20L4 18.59l7.72-7.72 1.47 1.35L5.41 20z\"/>\n",
              "  </svg>\n",
              "      </button>\n",
              "      \n",
              "  <style>\n",
              "    .colab-df-container {\n",
              "      display:flex;\n",
              "      flex-wrap:wrap;\n",
              "      gap: 12px;\n",
              "    }\n",
              "\n",
              "    .colab-df-convert {\n",
              "      background-color: #E8F0FE;\n",
              "      border: none;\n",
              "      border-radius: 50%;\n",
              "      cursor: pointer;\n",
              "      display: none;\n",
              "      fill: #1967D2;\n",
              "      height: 32px;\n",
              "      padding: 0 0 0 0;\n",
              "      width: 32px;\n",
              "    }\n",
              "\n",
              "    .colab-df-convert:hover {\n",
              "      background-color: #E2EBFA;\n",
              "      box-shadow: 0px 1px 2px rgba(60, 64, 67, 0.3), 0px 1px 3px 1px rgba(60, 64, 67, 0.15);\n",
              "      fill: #174EA6;\n",
              "    }\n",
              "\n",
              "    [theme=dark] .colab-df-convert {\n",
              "      background-color: #3B4455;\n",
              "      fill: #D2E3FC;\n",
              "    }\n",
              "\n",
              "    [theme=dark] .colab-df-convert:hover {\n",
              "      background-color: #434B5C;\n",
              "      box-shadow: 0px 1px 3px 1px rgba(0, 0, 0, 0.15);\n",
              "      filter: drop-shadow(0px 1px 2px rgba(0, 0, 0, 0.3));\n",
              "      fill: #FFFFFF;\n",
              "    }\n",
              "  </style>\n",
              "\n",
              "      <script>\n",
              "        const buttonEl =\n",
              "          document.querySelector('#df-ee0c5cdc-1188-4b8d-ab43-bc179dcd30af button.colab-df-convert');\n",
              "        buttonEl.style.display =\n",
              "          google.colab.kernel.accessAllowed ? 'block' : 'none';\n",
              "\n",
              "        async function convertToInteractive(key) {\n",
              "          const element = document.querySelector('#df-ee0c5cdc-1188-4b8d-ab43-bc179dcd30af');\n",
              "          const dataTable =\n",
              "            await google.colab.kernel.invokeFunction('convertToInteractive',\n",
              "                                                     [key], {});\n",
              "          if (!dataTable) return;\n",
              "\n",
              "          const docLinkHtml = 'Like what you see? Visit the ' +\n",
              "            '<a target=\"_blank\" href=https://colab.research.google.com/notebooks/data_table.ipynb>data table notebook</a>'\n",
              "            + ' to learn more about interactive tables.';\n",
              "          element.innerHTML = '';\n",
              "          dataTable['output_type'] = 'display_data';\n",
              "          await google.colab.output.renderOutput(dataTable, element);\n",
              "          const docLink = document.createElement('div');\n",
              "          docLink.innerHTML = docLinkHtml;\n",
              "          element.appendChild(docLink);\n",
              "        }\n",
              "      </script>\n",
              "    </div>\n",
              "  </div>\n",
              "  "
            ]
          },
          "metadata": {},
          "execution_count": 14
        }
      ],
      "source": [
        "input_size = 15*(2*config['context'] + 1)\n",
        "model = Network(config['context']).to(device)\n",
        "frames, phoneme = next(iter(train_loader))\n",
        "print(frames.shape)\n",
        "# Check number of parameters of your network - Remember, you are limited to 20 million parameters for HW1 (including ensembles)\n",
        "summary(model, frames.to(device))"
      ]
    },
    {
      "cell_type": "code",
      "execution_count": 15,
      "metadata": {
        "id": "UROGEVJevKD-"
      },
      "outputs": [],
      "source": [
        "criterion = torch.nn.CrossEntropyLoss() #Defining Loss function \n",
        "optimizer = torch.optim.AdamW(model.parameters(), lr=config['learning_rate']) #Defining Optimizer\n",
        "# Recommended : Define Scheduler for Learning Rate, including but not limited to StepLR, MultiStepLR, CosineAnnealingLR, ReduceLROnPlateau, etc. \n",
        "# You can refer to Pytorch documentation for more information on how to use them."
      ]
    },
    {
      "cell_type": "markdown",
      "metadata": {
        "id": "IBwunYpyugFg"
      },
      "source": [
        "# Training and Validation Functions"
      ]
    },
    {
      "cell_type": "markdown",
      "metadata": {
        "id": "1JgeNhx4x2-P"
      },
      "source": [
        "This section covers the training, and validation functions for each epoch of running your experiment with a given model architecture. The code has been provided to you, but we recommend going through the comments to understand the workflow to enable you to write these loops for future HWs."
      ]
    },
    {
      "cell_type": "code",
      "execution_count": 16,
      "metadata": {
        "id": "XblOHEVtKab2",
        "colab": {
          "base_uri": "https://localhost:8080/"
        },
        "outputId": "5bebce79-e0f3-4cc1-f7f0-90feac2bee6e"
      },
      "outputs": [
        {
          "output_type": "execute_result",
          "data": {
            "text/plain": [
              "68"
            ]
          },
          "metadata": {},
          "execution_count": 16
        }
      ],
      "source": [
        "torch.cuda.empty_cache()\n",
        "gc.collect()"
      ]
    },
    {
      "cell_type": "code",
      "execution_count": 17,
      "metadata": {
        "id": "8wjPz7DHqKcL"
      },
      "outputs": [],
      "source": [
        "def train(model, optimizer, criterion, dataloader):\n",
        "\n",
        "    model.train()\n",
        "    train_loss = 0.0 #Monitoring Loss\n",
        "    \n",
        "    for iter, (mfccs, phonemes) in enumerate(dataloader):\n",
        "\n",
        "        ### Move Data to Device (Ideally GPU)\n",
        "        mfccs = mfccs.to(device)\n",
        "        phonemes = phonemes.to(device)\n",
        "\n",
        "        ### Forward Propagation\n",
        "        logits = model(mfccs)\n",
        "\n",
        "        ### Loss Calculation\n",
        "        loss = criterion(logits, phonemes)\n",
        "        train_loss += loss.item()\n",
        "\n",
        "        ### Initialize Gradients\n",
        "        optimizer.zero_grad()\n",
        "\n",
        "        ### Backward Propagation\n",
        "        loss.backward()\n",
        "\n",
        "        ### Gradient Descent\n",
        "        optimizer.step()\n",
        "  \n",
        "    train_loss /= len(dataloader)\n",
        "    return train_loss"
      ]
    },
    {
      "cell_type": "code",
      "execution_count": 18,
      "metadata": {
        "id": "Q5npQNFH315V"
      },
      "outputs": [],
      "source": [
        "def eval(model, dataloader):\n",
        "\n",
        "    model.eval() # set model in evaluation mode\n",
        "\n",
        "    phone_true_list = []\n",
        "    phone_pred_list = []\n",
        "\n",
        "    for i, data in enumerate(dataloader):\n",
        "\n",
        "        frames, phonemes = data\n",
        "        ### Move data to device (ideally GPU)\n",
        "        frames, phonemes = frames.to(device), phonemes.to(device) \n",
        "\n",
        "        with torch.inference_mode(): # makes sure that there are no gradients computed as we are not training the model now\n",
        "            ### Forward Propagation\n",
        "            logits = model(frames)\n",
        "\n",
        "        ### Get Predictions\n",
        "        predicted_phonemes = torch.argmax(logits, dim=1)\n",
        "        \n",
        "        ### Store Pred and True Labels\n",
        "        phone_pred_list.extend(predicted_phonemes.cpu().tolist())\n",
        "        phone_true_list.extend(phonemes.cpu().tolist())\n",
        "        \n",
        "        # Do you think we need loss.backward() and optimizer.step() here?\n",
        "    \n",
        "        del frames, phonemes, logits\n",
        "        torch.cuda.empty_cache()\n",
        "\n",
        "    ### Calculate Accuracy\n",
        "    accuracy = sklearn.metrics.accuracy_score(phone_pred_list, phone_true_list) \n",
        "    return accuracy*100"
      ]
    },
    {
      "cell_type": "markdown",
      "metadata": {
        "id": "yMd_XxPku5qp"
      },
      "source": [
        "# Weights and Biases Setup"
      ]
    },
    {
      "cell_type": "markdown",
      "metadata": {
        "id": "tjIbhR1wwbgI"
      },
      "source": [
        "This section is to enable logging metrics and files with Weights and Biases. Please refer to wandb documentationa and recitation 0 that covers the use of weights and biases for logging, hyperparameter tuning and monitoring your runs for your homeworks. Using this tool makes it very easy to show results when submitting your code and models for homeworks, and also extremely useful for study groups to organize and run ablations under a single team in wandb. \n",
        "\n",
        "We have written code for you to make use of it out of the box, so that you start using wandb for all your HWs from the beginning."
      ]
    },
    {
      "cell_type": "code",
      "execution_count": 19,
      "metadata": {
        "id": "SCDYx5VEu6qI",
        "colab": {
          "base_uri": "https://localhost:8080/"
        },
        "outputId": "432d3e44-f7bc-4000-ce9b-7a45bcf5045b"
      },
      "outputs": [
        {
          "output_type": "stream",
          "name": "stderr",
          "text": [
            "ERROR:wandb.jupyter:Failed to detect the name of this notebook, you can set it manually with the WANDB_NOTEBOOK_NAME environment variable to enable code saving.\n",
            "\u001b[34m\u001b[1mwandb\u001b[0m: W&B API key is configured. Use \u001b[1m`wandb login --relogin`\u001b[0m to force relogin\n",
            "\u001b[34m\u001b[1mwandb\u001b[0m: \u001b[33mWARNING\u001b[0m If you're specifying your api key in code, ensure this code is not shared publicly.\n",
            "\u001b[34m\u001b[1mwandb\u001b[0m: \u001b[33mWARNING\u001b[0m Consider setting the WANDB_API_KEY environment variable, or running `wandb login` from the command line.\n",
            "\u001b[34m\u001b[1mwandb\u001b[0m: Appending key for api.wandb.ai to your netrc file: /root/.netrc\n"
          ]
        },
        {
          "output_type": "execute_result",
          "data": {
            "text/plain": [
              "True"
            ]
          },
          "metadata": {},
          "execution_count": 19
        }
      ],
      "source": [
        "wandb.login(key=\"a1cf9ce16a0573089f92e793a07818b900c1c8e1\") #API Key is in your wandb account, under settings (wandb.ai/settings)"
      ]
    },
    {
      "cell_type": "code",
      "execution_count": 20,
      "metadata": {
        "id": "xvUnYd3Bw2up",
        "colab": {
          "base_uri": "https://localhost:8080/",
          "height": 85
        },
        "outputId": "0430bfdc-f223-48a3-c1bf-e70aab03eb8e"
      },
      "outputs": [
        {
          "output_type": "stream",
          "name": "stderr",
          "text": [
            "\u001b[34m\u001b[1mwandb\u001b[0m: Currently logged in as: \u001b[33mkeltonzhang\u001b[0m. Use \u001b[1m`wandb login --relogin`\u001b[0m to force relogin\n"
          ]
        },
        {
          "output_type": "display_data",
          "data": {
            "text/plain": [
              "<IPython.core.display.HTML object>"
            ],
            "text/html": [
              "Tracking run with wandb version 0.13.3"
            ]
          },
          "metadata": {}
        },
        {
          "output_type": "display_data",
          "data": {
            "text/plain": [
              "<IPython.core.display.HTML object>"
            ],
            "text/html": [
              "Run data is saved locally in <code>/content/wandb/run-20220930_012629-2uoq5ous</code>"
            ]
          },
          "metadata": {}
        },
        {
          "output_type": "display_data",
          "data": {
            "text/plain": [
              "<IPython.core.display.HTML object>"
            ],
            "text/html": [
              "Syncing run <strong><a href=\"https://wandb.ai/keltonzhang/hw1p2/runs/2uoq5ous\" target=\"_blank\">first-run</a></strong> to <a href=\"https://wandb.ai/keltonzhang/hw1p2\" target=\"_blank\">Weights & Biases</a> (<a href=\"https://wandb.me/run\" target=\"_blank\">docs</a>)<br/>"
            ]
          },
          "metadata": {}
        }
      ],
      "source": [
        "# Create your wandb run\n",
        "run = wandb.init(\n",
        "    name = \"first-run\", ### Wandb creates random run names if you skip this field, we recommend you give useful names\n",
        "    reinit=True, ### Allows reinitalizing runs when you re-run this cell\n",
        "    project=\"hw1p2\", ### Project should be created in your wandb account \n",
        "    config=config ### Wandb Config for your run\n",
        ")"
      ]
    },
    {
      "cell_type": "code",
      "execution_count": 21,
      "metadata": {
        "id": "wft15E_IxYFi",
        "colab": {
          "base_uri": "https://localhost:8080/"
        },
        "outputId": "07fea456-b89c-4a7c-be6e-d2699b5d9d79"
      },
      "outputs": [
        {
          "output_type": "execute_result",
          "data": {
            "text/plain": [
              "['/content/wandb/run-20220930_012629-2uoq5ous/files/model_arch.txt']"
            ]
          },
          "metadata": {},
          "execution_count": 21
        }
      ],
      "source": [
        "### Save your model architecture as a string with str(model) \n",
        "model_arch = str(model)\n",
        "\n",
        "### Save it in a txt file \n",
        "arch_file = open(\"model_arch.txt\", \"w\")\n",
        "file_write = arch_file.write(model_arch)\n",
        "arch_file.close()\n",
        "\n",
        "### log it in your wandb run with wandb.save()\n",
        "wandb.save('model_arch.txt')"
      ]
    },
    {
      "cell_type": "markdown",
      "metadata": {
        "id": "nclx_04fu7Dd"
      },
      "source": [
        "# Experiment\n",
        "\n",
        "---\n",
        "\n",
        "\n",
        "\n",
        "---\n",
        "\n"
      ]
    },
    {
      "cell_type": "markdown",
      "metadata": {
        "id": "MdLMWfEpyGOB"
      },
      "source": [
        "Now, it is time to finally run your ablations! Have fun!"
      ]
    },
    {
      "cell_type": "code",
      "execution_count": null,
      "metadata": {
        "colab": {
          "base_uri": "https://localhost:8080/"
        },
        "id": "MG4F77Nm0Am9",
        "outputId": "0f6af667-460f-4c5e-f665-1a999a53dac5"
      },
      "outputs": [
        {
          "metadata": {
            "tags": null
          },
          "name": "stdout",
          "output_type": "stream",
          "text": [
            "\n",
            "Epoch 1/12\n",
            "\tTrain Loss: 0.9292\n",
            "\tValidation Accuracy: 76.63%\n",
            "\n",
            "Epoch 2/12\n",
            "\tTrain Loss: 0.6875\n",
            "\tValidation Accuracy: 79.45%\n",
            "\n",
            "Epoch 3/12\n"
          ]
        }
      ],
      "source": [
        "# Iterate over number of epochs to train and evaluate your model\n",
        "torch.cuda.empty_cache()\n",
        "\n",
        "best_acc = 0.0 ### Monitor best accuracy in your run\n",
        "\n",
        "for epoch in range(config['epochs']):\n",
        "    print(\"\\nEpoch {}/{}\".format(epoch+1, config['epochs']))\n",
        "\n",
        "    train_loss = train(model, optimizer, criterion, train_loader)\n",
        "    accuracy = eval(model, val_loader)\n",
        "\n",
        "    print(\"\\tTrain Loss: {:.4f}\".format(train_loss))\n",
        "    print(\"\\tValidation Accuracy: {:.2f}%\".format(accuracy))\n",
        "\n",
        "\n",
        "    ### Log metrics at each epoch in your run - Optionally, you can log at each batch inside train/eval functions (explore wandb documentation/wandb recitation)\n",
        "    wandb.log({\"train loss\": train_loss, \"validation accuracy\": accuracy})\n",
        "\n",
        "    ### Save checkpoint if accuracy is better than your current best\n",
        "    if accuracy >= best_acc:\n",
        "\n",
        "      ### Save checkpoint with information you want\n",
        "      torch.save({'epoch': epoch,\n",
        "              'model_state_dict': model.state_dict(),\n",
        "              'optimizer_state_dict': optimizer.state_dict(),\n",
        "              'loss': train_loss,\n",
        "              'acc': accuracy}, \n",
        "        './model_checkpoint.pth')\n",
        "      \n",
        "      ### Save checkpoint in wandb\n",
        "      wandb.save('checkpoint.pth')\n",
        "\n",
        "    # Is your training time very high? Look into mixed precision training if your GPU (Tesla T4, V100, etc) can make use of it \n",
        "    # Refer - https://pytorch.org/docs/stable/notes/amp_examples.html\n",
        "\n",
        "### Finish your wandb run\n",
        "run.finish()"
      ]
    },
    {
      "cell_type": "markdown",
      "metadata": {
        "id": "_kXwf5YUo_4A"
      },
      "source": [
        "# Testing and submission to Kaggle"
      ]
    },
    {
      "cell_type": "markdown",
      "metadata": {
        "id": "WI1hSFYLpJvH"
      },
      "source": [
        "Before we get to the following code, make sure to see the format of submission given in *random_submission.csv*. Once you have done so, it is time to fill the following function to complete your inference on test data. Refer the eval function from previous cells to get an idea of how to go about completing this function."
      ]
    },
    {
      "cell_type": "code",
      "execution_count": null,
      "metadata": {
        "id": "R-SU9fZ3xHtk"
      },
      "outputs": [],
      "source": [
        "def test(model, test_loader):\n",
        "  ### What you call for model to perform inference?\n",
        "  model.eval()\n",
        "\n",
        "  ### List to store predicted phonemes of test data\n",
        "  test_predictions = []\n",
        "\n",
        "  ### Which mode do you need to avoid gradients?\n",
        "  with torch.inference_mode():\n",
        "\n",
        "      for i, frames in enumerate(tqdm(test_loader)):\n",
        "\n",
        "          frames = frames.float().to(device)             \n",
        "          \n",
        "          output = model(frames)\n",
        "\n",
        "          ### Get most likely predicted phoneme with argmax\n",
        "          predicted_phonemes = torch.argmax(output, dim=1)\n",
        "\n",
        "          ### How do you store predicted_phonemes with test_predictions? Hint, look at eval \n",
        "          test_predictions += predicted_phonemes\n",
        "  return test_predictions"
      ]
    },
    {
      "cell_type": "code",
      "execution_count": null,
      "metadata": {
        "id": "wG9v6Xmxu7wp"
      },
      "outputs": [],
      "source": [
        "predictions = test(model, test_loader)\n",
        "print(len(predictions))"
      ]
    },
    {
      "cell_type": "code",
      "execution_count": null,
      "metadata": {
        "id": "ZE1hRnvf0bFz"
      },
      "outputs": [],
      "source": [
        "### Create CSV file with predictions\n",
        "with open(\"./submission.csv\", \"w+\") as f:\n",
        "    f.write(\"id,label\\n\")\n",
        "    for i in range(len(predictions)):\n",
        "        f.write(\"{},{}\\n\".format(i, predictions[i]))"
      ]
    },
    {
      "cell_type": "code",
      "execution_count": null,
      "metadata": {
        "id": "LjcammuCxMKN"
      },
      "outputs": [],
      "source": [
        "### Submit to kaggle competition using kaggle API\n",
        "!kaggle competitions submit -c 11-785-f22-hw1p2 -f ./submission.csv -m \"Test Submission\""
      ]
    }
  ],
  "metadata": {
    "accelerator": "GPU",
    "colab": {
      "collapsed_sections": [
        "z4vZbDmJvMp1",
        "ZIi0Big7vPa9"
      ],
      "machine_shape": "hm",
      "toc_visible": true,
      "provenance": []
    },
    "gpuClass": "standard",
    "kernelspec": {
      "display_name": "Python 3.7.13 64-bit ('hw0p1')",
      "language": "python",
      "name": "python3"
    },
    "language_info": {
      "codemirror_mode": {
        "name": "ipython",
        "version": 3
      },
      "file_extension": ".py",
      "mimetype": "text/x-python",
      "name": "python",
      "nbconvert_exporter": "python",
      "pygments_lexer": "ipython3",
      "version": "3.7.13"
    },
    "vscode": {
      "interpreter": {
        "hash": "1aa077e0fdae99ae001d6a0443850242fd71354508eabb98dff0dfbba672c0cc"
      }
    }
  },
  "nbformat": 4,
  "nbformat_minor": 0
}